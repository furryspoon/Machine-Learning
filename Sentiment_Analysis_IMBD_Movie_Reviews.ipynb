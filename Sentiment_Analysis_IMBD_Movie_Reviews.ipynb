{
  "cells": [
    {
      "cell_type": "markdown",
      "metadata": {
        "id": "Vi1lIpwYPL4x"
      },
      "source": [
        "IMPORTING FIRST DATASET"
      ]
    },
    {
      "cell_type": "code",
      "execution_count": null,
      "metadata": {
        "id": "bk8QXixMPb33"
      },
      "outputs": [],
      "source": [
        "import numpy as np\n",
        "import pandas as pd\n",
        "import matplotlib.pyplot as plt"
      ]
    },
    {
      "cell_type": "code",
      "execution_count": null,
      "metadata": {
        "id": "YfXmmYMCPy2Y"
      },
      "outputs": [],
      "source": [
        "data_imbd = pd.read_csv('Dataset.csv')"
      ]
    },
    {
      "cell_type": "code",
      "execution_count": null,
      "metadata": {
        "colab": {
          "base_uri": "https://localhost:8080/"
        },
        "id": "m9zck2cCP44M",
        "outputId": "482e4430-1630-47f1-9099-f5811a87212d"
      },
      "outputs": [
        {
          "output_type": "execute_result",
          "data": {
            "text/plain": [
              "(5000, 2)"
            ]
          },
          "metadata": {},
          "execution_count": 7
        }
      ],
      "source": [
        "data_imbd.shape "
      ]
    },
    {
      "cell_type": "code",
      "execution_count": null,
      "metadata": {
        "id": "yxJMISirP2mD",
        "colab": {
          "base_uri": "https://localhost:8080/",
          "height": 206
        },
        "outputId": "061f0eab-082f-45ce-daf2-a1e2fc76eff1"
      },
      "outputs": [
        {
          "output_type": "execute_result",
          "data": {
            "text/html": [
              "\n",
              "  <div id=\"df-2d4f202b-487b-4dde-80a1-fe341c67caeb\">\n",
              "    <div class=\"colab-df-container\">\n",
              "      <div>\n",
              "<style scoped>\n",
              "    .dataframe tbody tr th:only-of-type {\n",
              "        vertical-align: middle;\n",
              "    }\n",
              "\n",
              "    .dataframe tbody tr th {\n",
              "        vertical-align: top;\n",
              "    }\n",
              "\n",
              "    .dataframe thead th {\n",
              "        text-align: right;\n",
              "    }\n",
              "</style>\n",
              "<table border=\"1\" class=\"dataframe\">\n",
              "  <thead>\n",
              "    <tr style=\"text-align: right;\">\n",
              "      <th></th>\n",
              "      <th>text</th>\n",
              "      <th>label</th>\n",
              "    </tr>\n",
              "  </thead>\n",
              "  <tbody>\n",
              "    <tr>\n",
              "      <th>0</th>\n",
              "      <td>I always wrote this series off as being a comp...</td>\n",
              "      <td>0</td>\n",
              "    </tr>\n",
              "    <tr>\n",
              "      <th>1</th>\n",
              "      <td>1st watched 12/7/2002 - 3 out of 10(Dir-Steve ...</td>\n",
              "      <td>0</td>\n",
              "    </tr>\n",
              "    <tr>\n",
              "      <th>2</th>\n",
              "      <td>This movie was so poorly written and directed ...</td>\n",
              "      <td>0</td>\n",
              "    </tr>\n",
              "    <tr>\n",
              "      <th>3</th>\n",
              "      <td>The most interesting thing about Miryang (Secr...</td>\n",
              "      <td>1</td>\n",
              "    </tr>\n",
              "    <tr>\n",
              "      <th>4</th>\n",
              "      <td>when i first read about \"berlin am meer\" i did...</td>\n",
              "      <td>0</td>\n",
              "    </tr>\n",
              "  </tbody>\n",
              "</table>\n",
              "</div>\n",
              "      <button class=\"colab-df-convert\" onclick=\"convertToInteractive('df-2d4f202b-487b-4dde-80a1-fe341c67caeb')\"\n",
              "              title=\"Convert this dataframe to an interactive table.\"\n",
              "              style=\"display:none;\">\n",
              "        \n",
              "  <svg xmlns=\"http://www.w3.org/2000/svg\" height=\"24px\"viewBox=\"0 0 24 24\"\n",
              "       width=\"24px\">\n",
              "    <path d=\"M0 0h24v24H0V0z\" fill=\"none\"/>\n",
              "    <path d=\"M18.56 5.44l.94 2.06.94-2.06 2.06-.94-2.06-.94-.94-2.06-.94 2.06-2.06.94zm-11 1L8.5 8.5l.94-2.06 2.06-.94-2.06-.94L8.5 2.5l-.94 2.06-2.06.94zm10 10l.94 2.06.94-2.06 2.06-.94-2.06-.94-.94-2.06-.94 2.06-2.06.94z\"/><path d=\"M17.41 7.96l-1.37-1.37c-.4-.4-.92-.59-1.43-.59-.52 0-1.04.2-1.43.59L10.3 9.45l-7.72 7.72c-.78.78-.78 2.05 0 2.83L4 21.41c.39.39.9.59 1.41.59.51 0 1.02-.2 1.41-.59l7.78-7.78 2.81-2.81c.8-.78.8-2.07 0-2.86zM5.41 20L4 18.59l7.72-7.72 1.47 1.35L5.41 20z\"/>\n",
              "  </svg>\n",
              "      </button>\n",
              "      \n",
              "  <style>\n",
              "    .colab-df-container {\n",
              "      display:flex;\n",
              "      flex-wrap:wrap;\n",
              "      gap: 12px;\n",
              "    }\n",
              "\n",
              "    .colab-df-convert {\n",
              "      background-color: #E8F0FE;\n",
              "      border: none;\n",
              "      border-radius: 50%;\n",
              "      cursor: pointer;\n",
              "      display: none;\n",
              "      fill: #1967D2;\n",
              "      height: 32px;\n",
              "      padding: 0 0 0 0;\n",
              "      width: 32px;\n",
              "    }\n",
              "\n",
              "    .colab-df-convert:hover {\n",
              "      background-color: #E2EBFA;\n",
              "      box-shadow: 0px 1px 2px rgba(60, 64, 67, 0.3), 0px 1px 3px 1px rgba(60, 64, 67, 0.15);\n",
              "      fill: #174EA6;\n",
              "    }\n",
              "\n",
              "    [theme=dark] .colab-df-convert {\n",
              "      background-color: #3B4455;\n",
              "      fill: #D2E3FC;\n",
              "    }\n",
              "\n",
              "    [theme=dark] .colab-df-convert:hover {\n",
              "      background-color: #434B5C;\n",
              "      box-shadow: 0px 1px 3px 1px rgba(0, 0, 0, 0.15);\n",
              "      filter: drop-shadow(0px 1px 2px rgba(0, 0, 0, 0.3));\n",
              "      fill: #FFFFFF;\n",
              "    }\n",
              "  </style>\n",
              "\n",
              "      <script>\n",
              "        const buttonEl =\n",
              "          document.querySelector('#df-2d4f202b-487b-4dde-80a1-fe341c67caeb button.colab-df-convert');\n",
              "        buttonEl.style.display =\n",
              "          google.colab.kernel.accessAllowed ? 'block' : 'none';\n",
              "\n",
              "        async function convertToInteractive(key) {\n",
              "          const element = document.querySelector('#df-2d4f202b-487b-4dde-80a1-fe341c67caeb');\n",
              "          const dataTable =\n",
              "            await google.colab.kernel.invokeFunction('convertToInteractive',\n",
              "                                                     [key], {});\n",
              "          if (!dataTable) return;\n",
              "\n",
              "          const docLinkHtml = 'Like what you see? Visit the ' +\n",
              "            '<a target=\"_blank\" href=https://colab.research.google.com/notebooks/data_table.ipynb>data table notebook</a>'\n",
              "            + ' to learn more about interactive tables.';\n",
              "          element.innerHTML = '';\n",
              "          dataTable['output_type'] = 'display_data';\n",
              "          await google.colab.output.renderOutput(dataTable, element);\n",
              "          const docLink = document.createElement('div');\n",
              "          docLink.innerHTML = docLinkHtml;\n",
              "          element.appendChild(docLink);\n",
              "        }\n",
              "      </script>\n",
              "    </div>\n",
              "  </div>\n",
              "  "
            ],
            "text/plain": [
              "                                                text  label\n",
              "0  I always wrote this series off as being a comp...      0\n",
              "1  1st watched 12/7/2002 - 3 out of 10(Dir-Steve ...      0\n",
              "2  This movie was so poorly written and directed ...      0\n",
              "3  The most interesting thing about Miryang (Secr...      1\n",
              "4  when i first read about \"berlin am meer\" i did...      0"
            ]
          },
          "metadata": {},
          "execution_count": 8
        }
      ],
      "source": [
        "data_imbd.head()"
      ]
    },
    {
      "cell_type": "code",
      "execution_count": null,
      "metadata": {
        "colab": {
          "base_uri": "https://localhost:8080/"
        },
        "id": "A7GANa9kRSMo",
        "outputId": "921b387c-1972-443e-d40b-8f3607753334"
      },
      "outputs": [
        {
          "output_type": "execute_result",
          "data": {
            "text/plain": [
              "text     0\n",
              "label    0\n",
              "dtype: int64"
            ]
          },
          "metadata": {},
          "execution_count": 9
        }
      ],
      "source": [
        "#Check for null values\n",
        "data_imbd.isnull().sum()"
      ]
    },
    {
      "cell_type": "code",
      "execution_count": null,
      "metadata": {
        "colab": {
          "base_uri": "https://localhost:8080/"
        },
        "id": "g_paitLZP_b9",
        "outputId": "af602026-561a-432e-b950-feb277a3a59f"
      },
      "outputs": [
        {
          "output_type": "execute_result",
          "data": {
            "text/plain": [
              "1    2505\n",
              "0    2495\n",
              "Name: label, dtype: int64"
            ]
          },
          "metadata": {},
          "execution_count": 10
        }
      ],
      "source": [
        "#Check the distribution of label column\n",
        "data_imbd['label'].value_counts()"
      ]
    },
    {
      "cell_type": "code",
      "execution_count": null,
      "metadata": {
        "id": "I8IKQx5XRWOQ"
      },
      "outputs": [],
      "source": [
        "#column text = x, column label = y\n",
        "x1 = data_imbd['text']\n",
        "y1 = data_imbd['label']"
      ]
    },
    {
      "cell_type": "markdown",
      "metadata": {
        "id": "ggskOKNtR4vH"
      },
      "source": [
        "DATA CLEANING, DATA PREPROCESSING"
      ]
    },
    {
      "cell_type": "code",
      "execution_count": null,
      "metadata": {
        "id": "U1o8oItdSED0"
      },
      "outputs": [],
      "source": [
        "import string \n",
        "import re\n",
        "import nltk"
      ]
    },
    {
      "cell_type": "code",
      "execution_count": null,
      "metadata": {
        "colab": {
          "base_uri": "https://localhost:8080/"
        },
        "id": "f8xnDHRLZsXP",
        "outputId": "cd2382d2-efc3-410d-b302-20717c3050a3"
      },
      "outputs": [
        {
          "output_type": "stream",
          "name": "stdout",
          "text": [
            "[nltk_data] Downloading package stopwords to /root/nltk_data...\n",
            "[nltk_data]   Unzipping corpora/stopwords.zip.\n",
            "[nltk_data] Downloading package punkt to /root/nltk_data...\n",
            "[nltk_data]   Unzipping tokenizers/punkt.zip.\n",
            "[nltk_data] Downloading package wordnet to /root/nltk_data...\n",
            "[nltk_data]   Unzipping corpora/wordnet.zip.\n"
          ]
        },
        {
          "output_type": "execute_result",
          "data": {
            "text/plain": [
              "True"
            ]
          },
          "metadata": {},
          "execution_count": 13
        }
      ],
      "source": [
        "nltk.download('stopwords')\n",
        "nltk.download('punkt')\n",
        "nltk.download('wordnet')"
      ]
    },
    {
      "cell_type": "code",
      "execution_count": null,
      "metadata": {
        "id": "lUPOBZrAVRXl"
      },
      "outputs": [],
      "source": [
        "#Data cleaning and preprocessing\n",
        "\n",
        "def text_data_cleaning(sentence):\n",
        "    wn = nltk.WordNetLemmatizer()\n",
        "    stopword = nltk.corpus.stopwords.words('english')\n",
        "    tokens = nltk.word_tokenize(sentence)\n",
        "    lower = [word.lower() for word in tokens]\n",
        "    no_stopwords = [word for word in lower if word not in stopword]\n",
        "    no_alpha = [word for word in no_stopwords if word.isalpha()]\n",
        "    lemm_text = [wn.lemmatize(word) for word in no_alpha]\n",
        "    clean_text = lemm_text\n",
        "    return clean_text"
      ]
    },
    {
      "cell_type": "code",
      "execution_count": null,
      "metadata": {
        "colab": {
          "base_uri": "https://localhost:8080/"
        },
        "id": "PSs_IvVuT9OV",
        "outputId": "c331a9f8-f174-4940-8c82-457da3825288"
      },
      "outputs": [
        {
          "output_type": "execute_result",
          "data": {
            "text/plain": [
              "['hello', 'beautiful', 'day', 'outside']"
            ]
          },
          "metadata": {},
          "execution_count": 15
        }
      ],
      "source": [
        "#test the data cleaning function\n",
        "text_data_cleaning(\"Hello, It's a beautiful day outside there!\")"
      ]
    },
    {
      "cell_type": "markdown",
      "metadata": {
        "id": "nvPO-0YYSZcS"
      },
      "source": [
        "VECTORIZATION FEATURE ENGINEERING (TF-IDF)"
      ]
    },
    {
      "cell_type": "code",
      "execution_count": null,
      "metadata": {
        "id": "11pmYtdlSmN7"
      },
      "outputs": [],
      "source": [
        "from sklearn.svm import LinearSVC\n",
        "from sklearn.feature_extraction.text import TfidfVectorizer\n",
        "from sklearn.ensemble import RandomForestClassifier\n",
        "from sklearn.linear_model import LogisticRegression\n",
        "from sklearn.pipeline import Pipeline"
      ]
    },
    {
      "cell_type": "code",
      "execution_count": null,
      "metadata": {
        "id": "At15O6fGSlLA"
      },
      "outputs": [],
      "source": [
        "tfidf = TfidfVectorizer(tokenizer = text_data_cleaning)"
      ]
    },
    {
      "cell_type": "code",
      "execution_count": null,
      "metadata": {
        "id": "f284x2UwSp-j"
      },
      "outputs": [],
      "source": [
        "#Support Vector Classifier\n",
        "classifier = LinearSVC()"
      ]
    },
    {
      "cell_type": "code",
      "source": [
        "#Logistic Regression Classifier\n",
        "classifier2 = LogisticRegression()"
      ],
      "metadata": {
        "id": "YoKvulOV5mw3"
      },
      "execution_count": null,
      "outputs": []
    },
    {
      "cell_type": "code",
      "source": [
        "#Random Forest Classifier \n",
        "classifier3 = RandomForestClassifier()"
      ],
      "metadata": {
        "id": "U9l64d5G1vE2"
      },
      "execution_count": null,
      "outputs": []
    },
    {
      "cell_type": "markdown",
      "metadata": {
        "id": "GchuSvhUSs3r"
      },
      "source": [
        "SPLIT THE DATASET INTO TEST AND TRAIN DATASET"
      ]
    },
    {
      "cell_type": "code",
      "execution_count": null,
      "metadata": {
        "id": "uR6YmLTqS40n"
      },
      "outputs": [],
      "source": [
        "#Split the dataset, 20% testing, 80% training\n",
        "from sklearn.model_selection import train_test_split\n",
        "x1_train, x1_test, y1_train, y1_test = train_test_split(x1, y1, test_size = 0.2, random_state = 0)"
      ]
    },
    {
      "cell_type": "code",
      "execution_count": null,
      "metadata": {
        "colab": {
          "base_uri": "https://localhost:8080/"
        },
        "id": "M1gyCR2DTERT",
        "outputId": "362405f2-3e4f-4993-8011-fa09ce80959d"
      },
      "outputs": [
        {
          "output_type": "execute_result",
          "data": {
            "text/plain": [
              "((4000,), (1000,))"
            ]
          },
          "metadata": {},
          "execution_count": 22
        }
      ],
      "source": [
        "x1_train.shape, x1_test.shape"
      ]
    },
    {
      "cell_type": "code",
      "execution_count": null,
      "metadata": {
        "colab": {
          "base_uri": "https://localhost:8080/"
        },
        "id": "AT7Tiox7S_BK",
        "outputId": "cca5d978-ef9e-4f3d-e6af-ae99ae51613e"
      },
      "outputs": [
        {
          "output_type": "execute_result",
          "data": {
            "text/plain": [
              "2913    Damn, I thought I'd seen some bad westerns. Ca...\n",
              "3275    First off I am in my mid 40's. Been watchin ho...\n",
              "775     This is an absolutely true and faithful adapta...\n",
              "217     \"Rush in Rio\" is, no doubt, one of the most ex...\n",
              "1245    There were so many things wrong with this movi...\n",
              "Name: text, dtype: object"
            ]
          },
          "metadata": {},
          "execution_count": 23
        }
      ],
      "source": [
        "x1_train.head()"
      ]
    },
    {
      "cell_type": "markdown",
      "source": [
        "TRAINING USING SUPPORT VECTOR CLASSIFIER"
      ],
      "metadata": {
        "id": "XCU1F35sVNLX"
      }
    },
    {
      "cell_type": "code",
      "execution_count": null,
      "metadata": {
        "id": "UnWNCvHcTbZf"
      },
      "outputs": [],
      "source": [
        "#Fit the x_train and y_train for Support Vector Classifier\n",
        "clf = Pipeline ([('tfidf',tfidf), ('clf', classifier)])  #it will do vectorization then classification"
      ]
    },
    {
      "cell_type": "code",
      "execution_count": null,
      "metadata": {
        "colab": {
          "base_uri": "https://localhost:8080/"
        },
        "id": "_hEy0ufWTefT",
        "outputId": "9a83e0a7-6d75-40d5-db9d-7ae3f7883f0b"
      },
      "outputs": [
        {
          "output_type": "execute_result",
          "data": {
            "text/plain": [
              "Pipeline(steps=[('tfidf',\n",
              "                 TfidfVectorizer(tokenizer=<function text_data_cleaning at 0x7fbd608ef440>)),\n",
              "                ('clf', LinearSVC())])"
            ]
          },
          "metadata": {},
          "execution_count": 25
        }
      ],
      "source": [
        "#Training using Support Vector Classifier \n",
        "clf.fit(x1_train, y1_train) "
      ]
    },
    {
      "cell_type": "markdown",
      "source": [
        "TRAINING USING LOGISTIC REGRESSION CLASSIFIER"
      ],
      "metadata": {
        "id": "qHwo1MlDVbsi"
      }
    },
    {
      "cell_type": "code",
      "source": [
        "#Fit the x_train and y_train for Logistic Regression Classifier\n",
        "clf2 = Pipeline ([('tfidf',tfidf), ('clf', classifier2)])  #it will do vectorization then classification"
      ],
      "metadata": {
        "id": "znIZ23vZ6ItY"
      },
      "execution_count": null,
      "outputs": []
    },
    {
      "cell_type": "code",
      "source": [
        "#Training for Logistic Regression Classifier\n",
        "clf2.fit(x1_train, y1_train) "
      ],
      "metadata": {
        "colab": {
          "base_uri": "https://localhost:8080/"
        },
        "id": "WDMZqAd06R0p",
        "outputId": "91d4455d-90de-4034-ea96-20253d327a27"
      },
      "execution_count": null,
      "outputs": [
        {
          "output_type": "execute_result",
          "data": {
            "text/plain": [
              "Pipeline(steps=[('tfidf',\n",
              "                 TfidfVectorizer(tokenizer=<function text_data_cleaning at 0x7fbd608ef440>)),\n",
              "                ('clf', LogisticRegression())])"
            ]
          },
          "metadata": {},
          "execution_count": 27
        }
      ]
    },
    {
      "cell_type": "markdown",
      "source": [
        "TRAINING FOR RANDOM FOREST CLASSIFIER"
      ],
      "metadata": {
        "id": "zf0gVzqdVrEE"
      }
    },
    {
      "cell_type": "code",
      "source": [
        "#Fit the x_train and y_train for Random Forest Classifier\n",
        "clf3 = Pipeline ([('tfidf',tfidf), ('clf', classifier3)])  #it will do vectorization then classification"
      ],
      "metadata": {
        "id": "NEgLM_IE1xs-"
      },
      "execution_count": null,
      "outputs": []
    },
    {
      "cell_type": "code",
      "source": [
        "#Training for Random Forest Classifier \n",
        "clf3.fit(x1_train, y1_train) "
      ],
      "metadata": {
        "colab": {
          "base_uri": "https://localhost:8080/"
        },
        "id": "Cc5kNZlB2VwO",
        "outputId": "a0521a3a-0098-4552-9acc-dcc49a1e8d3e"
      },
      "execution_count": null,
      "outputs": [
        {
          "output_type": "execute_result",
          "data": {
            "text/plain": [
              "Pipeline(steps=[('tfidf',\n",
              "                 TfidfVectorizer(tokenizer=<function text_data_cleaning at 0x7fbd608ef440>)),\n",
              "                ('clf', RandomForestClassifier())])"
            ]
          },
          "metadata": {},
          "execution_count": 29
        }
      ]
    },
    {
      "cell_type": "markdown",
      "metadata": {
        "id": "obgdny_4T0Lx"
      },
      "source": [
        "PREDICT TEST SET RESULTS FOR SVM"
      ]
    },
    {
      "cell_type": "code",
      "execution_count": null,
      "metadata": {
        "id": "7BM7j3BUTlTT"
      },
      "outputs": [],
      "source": [
        "from sklearn.metrics import accuracy_score, classification_report, confusion_matrix"
      ]
    },
    {
      "cell_type": "code",
      "source": [
        "y_pred1 = clf.predict(x1_test)"
      ],
      "metadata": {
        "id": "P-qfZFKXurCt"
      },
      "execution_count": null,
      "outputs": []
    },
    {
      "cell_type": "code",
      "execution_count": null,
      "metadata": {
        "colab": {
          "base_uri": "https://localhost:8080/"
        },
        "id": "UNTr8RjjToxx",
        "outputId": "9e0cd66a-d6ac-4a73-b2c1-73103b2cbed6"
      },
      "outputs": [
        {
          "output_type": "execute_result",
          "data": {
            "text/plain": [
              "array([[403,  86],\n",
              "       [ 55, 456]])"
            ]
          },
          "metadata": {},
          "execution_count": 32
        }
      ],
      "source": [
        "#Confusion matrix\n",
        "confusion_matrix(y1_test, y_pred1)"
      ]
    },
    {
      "cell_type": "code",
      "execution_count": null,
      "metadata": {
        "id": "crOn9CELBtIB",
        "colab": {
          "base_uri": "https://localhost:8080/"
        },
        "outputId": "d3eea1a0-f98f-43b5-eb12-3213743327ff"
      },
      "outputs": [
        {
          "output_type": "stream",
          "name": "stdout",
          "text": [
            "              precision    recall  f1-score   support\n",
            "\n",
            "           0       0.88      0.82      0.85       489\n",
            "           1       0.84      0.89      0.87       511\n",
            "\n",
            "    accuracy                           0.86      1000\n",
            "   macro avg       0.86      0.86      0.86      1000\n",
            "weighted avg       0.86      0.86      0.86      1000\n",
            "\n"
          ]
        }
      ],
      "source": [
        "#Classfication report \n",
        "print(classification_report(y1_test, y_pred1))"
      ]
    },
    {
      "cell_type": "code",
      "source": [
        "#Accuracy of the model\n",
        "accuracy_score(y1_test, y_pred1)"
      ],
      "metadata": {
        "colab": {
          "base_uri": "https://localhost:8080/"
        },
        "id": "4r4WwirFFiJd",
        "outputId": "ee9aa3bb-607e-4063-be3d-3b3d0440cc06"
      },
      "execution_count": null,
      "outputs": [
        {
          "output_type": "execute_result",
          "data": {
            "text/plain": [
              "0.859"
            ]
          },
          "metadata": {},
          "execution_count": 34
        }
      ]
    },
    {
      "cell_type": "markdown",
      "source": [
        "PREDICT TEST SET RESULTS FOR LINEAR REGRESSION "
      ],
      "metadata": {
        "id": "3KCf4d1U4crk"
      }
    },
    {
      "cell_type": "code",
      "source": [
        "y_pred2 = clf2.predict(x1_test)"
      ],
      "metadata": {
        "id": "t0u3JDO44jlF"
      },
      "execution_count": null,
      "outputs": []
    },
    {
      "cell_type": "code",
      "source": [
        "#Confusion matrix\n",
        "confusion_matrix(y1_test, y_pred2)"
      ],
      "metadata": {
        "colab": {
          "base_uri": "https://localhost:8080/"
        },
        "id": "MieLoyTf4pUS",
        "outputId": "8628213c-20ed-4c62-a83c-1e0656220e7d"
      },
      "execution_count": null,
      "outputs": [
        {
          "output_type": "execute_result",
          "data": {
            "text/plain": [
              "array([[387, 102],\n",
              "       [ 51, 460]])"
            ]
          },
          "metadata": {},
          "execution_count": 36
        }
      ]
    },
    {
      "cell_type": "code",
      "source": [
        "#classfication_report \n",
        "print(classification_report(y1_test, y_pred2))"
      ],
      "metadata": {
        "colab": {
          "base_uri": "https://localhost:8080/"
        },
        "id": "KnIO6qJq4tjI",
        "outputId": "b0f76d6c-1836-4a01-9a8b-cdc94c22b560"
      },
      "execution_count": null,
      "outputs": [
        {
          "output_type": "stream",
          "name": "stdout",
          "text": [
            "              precision    recall  f1-score   support\n",
            "\n",
            "           0       0.88      0.79      0.83       489\n",
            "           1       0.82      0.90      0.86       511\n",
            "\n",
            "    accuracy                           0.85      1000\n",
            "   macro avg       0.85      0.85      0.85      1000\n",
            "weighted avg       0.85      0.85      0.85      1000\n",
            "\n"
          ]
        }
      ]
    },
    {
      "cell_type": "code",
      "source": [
        "#Accuracy of the model\n",
        "accuracy_score(y1_test, y_pred2)"
      ],
      "metadata": {
        "colab": {
          "base_uri": "https://localhost:8080/"
        },
        "id": "kEZG8w4D44ua",
        "outputId": "9fb069e1-c7af-4fdf-bca1-a142e2c2ce3d"
      },
      "execution_count": null,
      "outputs": [
        {
          "output_type": "execute_result",
          "data": {
            "text/plain": [
              "0.847"
            ]
          },
          "metadata": {},
          "execution_count": 38
        }
      ]
    },
    {
      "cell_type": "markdown",
      "source": [
        "PREDICT TEST SET RESULTS FOR RANDOM FOREST "
      ],
      "metadata": {
        "id": "eFTteZ_12_vE"
      }
    },
    {
      "cell_type": "code",
      "source": [
        "y_pred3 = clf3.predict(x1_test)"
      ],
      "metadata": {
        "id": "Gh_Rl_NU2RFz"
      },
      "execution_count": null,
      "outputs": []
    },
    {
      "cell_type": "code",
      "source": [
        "#Confusion matrix\n",
        "confusion_matrix(y1_test, y_pred3)"
      ],
      "metadata": {
        "colab": {
          "base_uri": "https://localhost:8080/"
        },
        "id": "JbPRate_3Lor",
        "outputId": "a08edf3c-b6e5-4dbc-93bc-15eea3797628"
      },
      "execution_count": null,
      "outputs": [
        {
          "output_type": "execute_result",
          "data": {
            "text/plain": [
              "array([[404,  85],\n",
              "       [ 92, 419]])"
            ]
          },
          "metadata": {},
          "execution_count": 40
        }
      ]
    },
    {
      "cell_type": "code",
      "source": [
        "#classfication_report \n",
        "print(classification_report(y1_test, y_pred3))"
      ],
      "metadata": {
        "colab": {
          "base_uri": "https://localhost:8080/"
        },
        "id": "SKQo1yQk3Vlu",
        "outputId": "0ba738cb-464d-44f4-b341-dc8a3d78abd8"
      },
      "execution_count": null,
      "outputs": [
        {
          "output_type": "stream",
          "name": "stdout",
          "text": [
            "              precision    recall  f1-score   support\n",
            "\n",
            "           0       0.81      0.83      0.82       489\n",
            "           1       0.83      0.82      0.83       511\n",
            "\n",
            "    accuracy                           0.82      1000\n",
            "   macro avg       0.82      0.82      0.82      1000\n",
            "weighted avg       0.82      0.82      0.82      1000\n",
            "\n"
          ]
        }
      ]
    },
    {
      "cell_type": "code",
      "source": [
        "#Accuracy of the model\n",
        "accuracy_score(y1_test, y_pred3)"
      ],
      "metadata": {
        "colab": {
          "base_uri": "https://localhost:8080/"
        },
        "id": "yuIgpnAt4y-M",
        "outputId": "02139ada-7199-418d-a8f0-1f765136ed3a"
      },
      "execution_count": null,
      "outputs": [
        {
          "output_type": "execute_result",
          "data": {
            "text/plain": [
              "0.823"
            ]
          },
          "metadata": {},
          "execution_count": 42
        }
      ]
    },
    {
      "cell_type": "markdown",
      "source": [
        "PREDICTING OTHER REVIEWS FOR SUPPORT VECTOR CLASSIFIER"
      ],
      "metadata": {
        "id": "CWyX1KEeDXzJ"
      }
    },
    {
      "cell_type": "code",
      "source": [
        "#Example positive reviews\n",
        "clf.predict([\"films adapted from comic books have had plenty of success , whether they're about superheroes ( batman , superman , spawn ) , or geared toward kids ( casper ) or the arthouse crowd ( ghost world ) , but there's never really been a comic book like from hell before .\"])"
      ],
      "metadata": {
        "colab": {
          "base_uri": "https://localhost:8080/"
        },
        "id": "1Ya353A_DrIg",
        "outputId": "84ce757c-b151-4187-8e9b-3bfecdf54d63"
      },
      "execution_count": null,
      "outputs": [
        {
          "output_type": "execute_result",
          "data": {
            "text/plain": [
              "array([1])"
            ]
          },
          "metadata": {},
          "execution_count": 43
        }
      ]
    },
    {
      "cell_type": "code",
      "source": [
        "#Example negative reviews\n",
        "clf.predict([\"the little girl is also pretty good but unfortunately her character doesn't really do all that much .\"])"
      ],
      "metadata": {
        "colab": {
          "base_uri": "https://localhost:8080/"
        },
        "id": "Hc8S-DCHD9mi",
        "outputId": "a415e6be-1908-444d-c2b6-ee0954b87d5f"
      },
      "execution_count": null,
      "outputs": [
        {
          "output_type": "execute_result",
          "data": {
            "text/plain": [
              "array([0])"
            ]
          },
          "metadata": {},
          "execution_count": 44
        }
      ]
    },
    {
      "cell_type": "markdown",
      "source": [
        "PREDICTING OTHER REVIEWS FOR LOGISTIC REGRESSION CLASSIFIER"
      ],
      "metadata": {
        "id": "dYIa9vzsES33"
      }
    },
    {
      "cell_type": "code",
      "source": [
        "#Example positive reviews\n",
        "clf2.predict([\"films adapted from comic books have had plenty of success , whether they're about superheroes ( batman , superman , spawn ) , or geared toward kids ( casper ) or the arthouse crowd ( ghost world ) , but there's never really been a comic book like from hell before .\"])"
      ],
      "metadata": {
        "id": "tYR8Oso8E1NM",
        "colab": {
          "base_uri": "https://localhost:8080/"
        },
        "outputId": "bf981d3e-1cbc-46f1-b152-17c28a7aa357"
      },
      "execution_count": null,
      "outputs": [
        {
          "output_type": "execute_result",
          "data": {
            "text/plain": [
              "array([1])"
            ]
          },
          "metadata": {},
          "execution_count": 45
        }
      ]
    },
    {
      "cell_type": "code",
      "source": [
        "#Example negative reviews\n",
        "clf2.predict([\"the little girl is also pretty good but unfortunately her character doesn't really do all that much .\"])"
      ],
      "metadata": {
        "colab": {
          "base_uri": "https://localhost:8080/"
        },
        "id": "KuqyL7nWE3bC",
        "outputId": "b6895fdb-9a80-4051-9d26-8533f0b40eba"
      },
      "execution_count": null,
      "outputs": [
        {
          "output_type": "execute_result",
          "data": {
            "text/plain": [
              "array([0])"
            ]
          },
          "metadata": {},
          "execution_count": 46
        }
      ]
    },
    {
      "cell_type": "markdown",
      "source": [
        "PREDICTING OTHER REVIEWS FOR RANDOM FOREST CLASSIFIER"
      ],
      "metadata": {
        "id": "PzB68zMjFHUp"
      }
    },
    {
      "cell_type": "code",
      "source": [
        "#Example positive reviews\n",
        "clf3.predict([\"films adapted from comic books have had plenty of success , whether they're about superheroes ( batman , superman , spawn ) , or geared toward kids ( casper ) or the arthouse crowd ( ghost world ) , but there's never really been a comic book like from hell before .\"])"
      ],
      "metadata": {
        "colab": {
          "base_uri": "https://localhost:8080/"
        },
        "id": "nrXFfGHfFBwO",
        "outputId": "f1709adf-afcb-447f-fb7d-efb5d2c77e4e"
      },
      "execution_count": null,
      "outputs": [
        {
          "output_type": "execute_result",
          "data": {
            "text/plain": [
              "array([1])"
            ]
          },
          "metadata": {},
          "execution_count": 47
        }
      ]
    },
    {
      "cell_type": "code",
      "source": [
        "#Example negative reviews\n",
        "clf3.predict([\"the little girl is also pretty good but unfortunately her character doesn't really do all that much .\"])"
      ],
      "metadata": {
        "colab": {
          "base_uri": "https://localhost:8080/"
        },
        "id": "RDqaH7MFFHGg",
        "outputId": "397f259b-71bf-4bfa-e96d-e77cf335e8ef"
      },
      "execution_count": null,
      "outputs": [
        {
          "output_type": "execute_result",
          "data": {
            "text/plain": [
              "array([1])"
            ]
          },
          "metadata": {},
          "execution_count": 48
        }
      ]
    }
  ],
  "metadata": {
    "colab": {
      "provenance": []
    },
    "kernelspec": {
      "display_name": "Python 3",
      "name": "python3"
    },
    "language_info": {
      "name": "python"
    }
  },
  "nbformat": 4,
  "nbformat_minor": 0
}